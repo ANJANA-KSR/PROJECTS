{
 "cells": [
  {
   "cell_type": "code",
   "execution_count": null,
   "id": "9106153f",
   "metadata": {},
   "outputs": [],
   "source": [
    "import pandas as pd\n",
    "import numpy as np\n",
    "import matplotlib.pyplot as plt\n",
    "import seaborn as sns\n",
    "from sklearn.preprocessing import StandardScaler\n"
   ]
  },
  {
   "cell_type": "code",
   "execution_count": null,
   "id": "485fd996",
   "metadata": {},
   "outputs": [],
   "source": [
    "data = pd.read_csv('mcdonalds.csv')"
   ]
  },
  {
   "cell_type": "code",
   "execution_count": null,
   "id": "a4c94118",
   "metadata": {},
   "outputs": [],
   "source": [
    "data"
   ]
  },
  {
   "cell_type": "code",
   "execution_count": null,
   "id": "fbf6b7e3",
   "metadata": {},
   "outputs": [],
   "source": [
    "pip install pydataset"
   ]
  },
  {
   "cell_type": "code",
   "execution_count": null,
   "id": "f469294b",
   "metadata": {},
   "outputs": [],
   "source": [
    "from pydataset import data\n",
    "\n",
    "mcdonalds = data(\"mcdonalds\")\n",
    "column_names = mcdonalds.columns.tolist()\n",
    "print(columns)\n"
   ]
  },
  {
   "cell_type": "code",
   "execution_count": null,
   "id": "82f6c56c",
   "metadata": {},
   "outputs": [],
   "source": [
    "rows, columns = mcdonalds.shape\n",
    "print(rows, columns)"
   ]
  },
  {
   "cell_type": "code",
   "execution_count": null,
   "id": "6fd51c84",
   "metadata": {},
   "outputs": [],
   "source": [
    "import numpy as np\n",
    "import pandas as pd\n",
    "\n",
    "# Load the mcdonalds dataset\n",
    "mcdonalds = pd.read_csv('mcdonalds.csv')\n",
    "\n",
    "# Extract the first 11 columns and convert to matrix\n",
    "MD_x = mcdonalds.iloc[:, 0:11].values\n",
    "\n",
    "# Convert \"Yes\" to 1 and \"No\" to 0\n",
    "MD_x = (MD_x == \"Yes\").astype(int)\n",
    "\n",
    "# Compute the column means\n",
    "col_means = np.round(np.mean(MD_x, axis=0), 2)\n",
    "\n",
    "print(col_means)\n"
   ]
  },
  {
   "cell_type": "code",
   "execution_count": null,
   "id": "468ff2f8",
   "metadata": {},
   "outputs": [],
   "source": [
    "from sklearn.decomposition import PCA\n",
    "\n",
    "# Perform PCA\n",
    "pca = PCA()\n",
    "MD_pca = pca.fit_transform(MD_x)\n",
    "\n",
    "# Get the summary\n",
    "explained_variance_ratio = pca.explained_variance_ratio_\n",
    "singular_values = pca.singular_values_\n",
    "components = pca.components_\n",
    "\n",
    "print(\"Standard deviations (singular values):\\n\", singular_values)\n",
    "print(\"\\nProportion of Variance Explained:\\n\", explained_variance_ratio)\n",
    "print(\"\\nPrincipal Components (loadings):\\n\", components)\n"
   ]
  },
  {
   "cell_type": "code",
   "execution_count": null,
   "id": "b981d476",
   "metadata": {},
   "outputs": [],
   "source": [
    "print(\"PCA Summary:\")\n",
    "print(\"Standard deviations (singular values):\")\n",
    "print(pca.singular_values_)\n",
    "print(\"\\nProportion of Variance Explained:\")\n",
    "print(pca.explained_variance_ratio_)\n",
    "print(\"\\nPrincipal Components (loadings):\")\n",
    "print(pca.components_)\n"
   ]
  },
  {
   "cell_type": "code",
   "execution_count": null,
   "id": "c3562178",
   "metadata": {},
   "outputs": [],
   "source": [
    "import matplotlib.pyplot as plt\n",
    "\n",
    "# Plotting the PCA results\n",
    "plt.scatter(MD_pca.transform(MD_x)[:, 0], MD_pca.transform(MD_x)[:, 1], color='grey')\n",
    "plt.xlabel(\"PC1\")\n",
    "plt.ylabel(\"PC2\")\n",
    "plt.title(\"PCA Projection\")\n",
    "\n",
    "# Projecting the data onto the principal axes\n",
    "proj_axes = MD_pca.components_.T  # Transpose the components to get projection axes\n",
    "plt.plot([0, proj_axes[0, 0]], [0, proj_axes[0, 1]], color='red', linewidth=2)\n",
    "plt.plot([0, proj_axes[1, 0]], [0, proj_axes[1, 1]], color='blue', linewidth=2)\n",
    "\n",
    "plt.show()\n"
   ]
  },
  {
   "cell_type": "code",
   "execution_count": null,
   "id": "888297ee",
   "metadata": {},
   "outputs": [],
   "source": [
    "import matplotlib.pyplot as plt\n",
    "\n",
    "# Assuming MD_pca is your PCA object\n",
    "\n",
    "# Plotting the predicted values from PCA\n",
    "plt.scatter(MD_pca.transform(MD_x)[:, 0], MD_pca.transform(MD_x)[:, 1], c='grey')\n",
    "\n",
    "# Plotting the projection axes\n",
    "plt.plot([0, MD_pca.components_[0, 0]], [0, MD_pca.components_[0, 1]], color='red', linewidth=2)\n",
    "plt.plot([0, MD_pca.components_[1, 0]], [0, MD_pca.components_[1, 1]], color='blue', linewidth=2)\n",
    "\n",
    "# Adding labels and titles\n",
    "plt.xlabel('PC1')\n",
    "plt.ylabel('PC2')\n",
    "plt.title('PCA Projection')\n",
    "\n",
    "# Display the plot\n",
    "plt.show()\n"
   ]
  },
  {
   "cell_type": "code",
   "execution_count": null,
   "id": "e37a2931",
   "metadata": {},
   "outputs": [],
   "source": [
    "from sklearn.cluster import KMeans\n",
    "import numpy as np\n",
    "\n",
    "np.random.seed(1234)\n",
    "\n",
    "# Assuming MD_x is your data matrix\n",
    "\n",
    "# Perform clustering using KMeans\n",
    "k_values = range(2, 9)\n",
    "n_rep = 10\n",
    "cluster_labels = []\n",
    "\n",
    "for k in k_values:\n",
    "    kmeans = KMeans(n_clusters=k, n_init=n_rep, random_state=1234)\n",
    "    kmeans.fit(MD_x)\n",
    "    cluster_labels.append(kmeans.labels_)\n",
    "\n",
    "# Relabel the clusters\n",
    "relabelled_clusters = []\n",
    "for i in range(1, len(cluster_labels)):\n",
    "    prev_cluster_labels = cluster_labels[i-1]\n",
    "    curr_cluster_labels = cluster_labels[i]\n",
    "    \n",
    "    relabelled = np.zeros_like(curr_cluster_labels)\n",
    "    for j in range(k_values[i]):\n",
    "        mask = prev_cluster_labels == j\n",
    "        relabelled[curr_cluster_labels == j] = np.argmax(np.bincount(prev_cluster_labels[mask]))\n",
    "    \n",
    "    relabelled_clusters.append(relabelled)\n",
    "\n"
   ]
  },
  {
   "cell_type": "code",
   "execution_count": null,
   "id": "61bc8d14",
   "metadata": {},
   "outputs": [],
   "source": [
    "import matplotlib.pyplot as plt\n",
    "\n",
    "# Assuming MD_km28 is a list of relabelled cluster labels\n",
    "\n",
    "# Plotting the number of segments against the cluster labels\n",
    "num_segments = range(2, 9)\n",
    "\n",
    "plt.plot(num_segments, MD_km28)\n",
    "plt.xlabel(\"Number of segments\")\n",
    "plt.ylabel(\"Cluster labels\")\n",
    "plt.show()\n"
   ]
  },
  {
   "cell_type": "code",
   "execution_count": null,
   "id": "668317e3",
   "metadata": {},
   "outputs": [],
   "source": [
    "import numpy as np\n",
    "from sklearn.utils import resample\n",
    "from sklearn.cluster import KMeans\n",
    "\n",
    "# Set the random seed\n",
    "np.random.seed(1234)\n",
    "\n",
    "# Define the range of number of clusters\n",
    "num_clusters = range(2, 9)\n",
    "\n",
    "# Initialize an empty list to store the cluster labels\n",
    "boot_labels = []\n",
    "\n",
    "# Perform bootstrap clustering\n",
    "for k in num_clusters:\n",
    "    # Initialize an empty list to store the cluster labels for the current number of clusters\n",
    "    cluster_labels = []\n",
    "    for _ in range(100):  # nboot = 100\n",
    "        # Resample the data\n",
    "        bootstrap_sample = resample(data)\n",
    "\n",
    "        # Perform clustering on the resampled data\n",
    "        kmeans = KMeans(n_clusters=k)\n",
    "        kmeans.fit(bootstrap_sample)\n",
    "\n",
    "        # Append the cluster labels to the list\n",
    "        cluster_labels.append(kmeans.labels_)\n",
    "    \n",
    "    # Append the cluster labels for the current number of clusters to the main list\n",
    "    boot_labels.append(cluster_labels)\n"
   ]
  },
  {
   "cell_type": "code",
   "execution_count": null,
   "id": "b1002550",
   "metadata": {},
   "outputs": [],
   "source": [
    "import matplotlib.pyplot as plt\n",
    "\n",
    "# Set the x-axis and y-axis labels\n",
    "plt.xlabel(\"number of segments\")\n",
    "plt.ylabel(\"adjusted Rand index\")\n",
    "\n",
    "# Plot the adjusted Rand index\n",
    "plt.plot(range(2, 9), MD_b28.adjRI, marker=\"o\")\n",
    "\n",
    "# Display the plot\n",
    "plt.show()\n"
   ]
  },
  {
   "cell_type": "code",
   "execution_count": null,
   "id": "5de46bf2",
   "metadata": {},
   "outputs": [],
   "source": [
    "import matplotlib.pyplot as plt\n",
    "import numpy as np\n",
    "\n",
    "# Get the data for segment \"4\" from MD.km28\n",
    "segment_data = MD_km28[\"4\"]\n",
    "\n",
    "# Create a histogram\n",
    "plt.hist(segment_data, bins=np.arange(0, 1.1, 0.1), edgecolor=\"black\")\n",
    "\n",
    "# Set the x-axis and y-axis labels\n",
    "plt.xlabel(\"Value\")\n",
    "plt.ylabel(\"Frequency\")\n",
    "\n",
    "# Set the x-axis limits\n",
    "plt.xlim(0, 1)\n",
    "\n",
    "# Display the plot\n",
    "plt.show()\n"
   ]
  },
  {
   "cell_type": "code",
   "execution_count": null,
   "id": "0bfc2473",
   "metadata": {},
   "outputs": [],
   "source": [
    "MD_k4 = MD_km28[\"4\"]\n"
   ]
  },
  {
   "cell_type": "code",
   "execution_count": null,
   "id": "ea1303f1",
   "metadata": {},
   "outputs": [],
   "source": [
    "from flexclust import slsw_flexclust\n",
    "\n",
    "MD_r4 = slsw_flexclust(MD_x, MD_k4)\n"
   ]
  },
  {
   "cell_type": "code",
   "execution_count": null,
   "id": "c5b4ca50",
   "metadata": {},
   "outputs": [],
   "source": [
    "import matplotlib.pyplot as plt\n",
    "\n",
    "plt.plot(range(1, len(MD_r4) + 1), MD_r4, marker='o')\n",
    "plt.ylim(0, 1)\n",
    "plt.xlabel('segment number')\n",
    "plt.ylabel('segment stability')\n",
    "plt.show()\n"
   ]
  },
  {
   "cell_type": "code",
   "execution_count": null,
   "id": "8fc917a5",
   "metadata": {},
   "outputs": [],
   "source": [
    "from mixtools import GMM\n",
    "import numpy as np\n",
    "\n",
    "np.random.seed(1234)\n",
    "k_range = range(2, 9)\n",
    "MD_m28 = []\n",
    "\n",
    "for k in k_range:\n",
    "    gmm = GMM(n_components=k, verbose=False)\n",
    "    gmm.fit(MD_x)\n",
    "    MD_m28.append(gmm)\n",
    "\n",
    "print(MD_m28)\n"
   ]
  },
  {
   "cell_type": "code",
   "execution_count": null,
   "id": "7ed100c9",
   "metadata": {},
   "outputs": [],
   "source": [
    "import matplotlib.pyplot as plt\n",
    "\n",
    "AIC = [model.aic for model in MD_m28]\n",
    "BIC = [model.bic for model in MD_m28]\n",
    "ICL = [model.icl for model in MD_m28]\n",
    "\n",
    "plt.plot(k_range, AIC, label='AIC')\n",
    "plt.plot(k_range, BIC, label='BIC')\n",
    "plt.plot(k_range, ICL, label='ICL')\n",
    "plt.xlabel('Number of Components')\n",
    "plt.ylabel('Value of Information Criteria')\n",
    "plt.legend()\n",
    "plt.show()\n"
   ]
  },
  {
   "cell_type": "code",
   "execution_count": null,
   "id": "a4bc391c",
   "metadata": {},
   "outputs": [],
   "source": [
    "import pandas as pd\n",
    "from sklearn.metrics import confusion_matrix\n",
    "\n",
    "kmeans_clusters = clusters_k4  # Replace with your k-means cluster labels\n",
    "mixture_clusters = clusters_m4  # Replace with your mixture model cluster labels\n",
    "\n",
    "contingency_table = pd.DataFrame(confusion_matrix(kmeans_clusters, mixture_clusters),\n",
    "                                 index=['kmeans_cluster_{}'.format(i) for i in range(1, len(set(kmeans_clusters)) + 1)],\n",
    "                                 columns=['mixture_cluster_{}'.format(i) for i in range(1, len(set(mixture_clusters)) + 1)])\n",
    "\n",
    "print(contingency_table)\n"
   ]
  },
  {
   "cell_type": "code",
   "execution_count": null,
   "id": "6d54b2e8",
   "metadata": {},
   "outputs": [],
   "source": [
    "import pandas as pd\n",
    "from sklearn.metrics import confusion_matrix\n",
    "\n",
    "kmeans_clusters = clusters_k4  # Replace with your k-means cluster labels\n",
    "flexmix_clusters = clusters_m4a  # Replace with your flexmix cluster labels\n",
    "\n",
    "contingency_table = pd.DataFrame(confusion_matrix(kmeans_clusters, flexmix_clusters),\n",
    "                                 index=['kmeans_cluster_{}'.format(i) for i in range(1, len(set(kmeans_clusters)) + 1)],\n",
    "                                 columns=['flexmix_cluster_{}'.format(i) for i in range(1, len(set(flexmix_clusters)) + 1)])\n",
    "\n",
    "print(contingency_table)\n"
   ]
  },
  {
   "cell_type": "code",
   "execution_count": null,
   "id": "b4b7b480",
   "metadata": {},
   "outputs": [],
   "source": [
    "from flexmix import log_likelihood\n",
    "\n",
    "log_likelihood_value = log_likelihood(MD.m4a)\n",
    "print(log_likelihood_value)\n"
   ]
  },
  {
   "cell_type": "code",
   "execution_count": null,
   "id": "749fc8d5",
   "metadata": {},
   "outputs": [],
   "source": [
    "import pandas as pd\n",
    "\n",
    "like_counts = pd.value_counts(mcdonalds['Like'])\n",
    "reversed_table = like_counts.iloc[::-1]\n",
    "print(reversed_table)\n"
   ]
  },
  {
   "cell_type": "code",
   "execution_count": null,
   "id": "52ee778d",
   "metadata": {},
   "outputs": [],
   "source": [
    "import pandas as pd\n",
    "\n",
    "mcdonalds['Like.n'] = 6 - pd.to_numeric(mcdonalds['Like'])\n",
    "like_n_table = pd.value_counts(mcdonalds['Like.n'])\n",
    "print(like_n_table)\n"
   ]
  },
  {
   "cell_type": "code",
   "execution_count": null,
   "id": "4de16bad",
   "metadata": {},
   "outputs": [],
   "source": [
    "from patsy import formula\n",
    "\n",
    "column_names = mcdonalds.columns[0:11]\n",
    "formula_str = \"Like.n ~ \" + \" + \".join(column_names)\n",
    "f = formula(formula_str)\n",
    "print(f)\n"
   ]
  },
  {
   "cell_type": "code",
   "execution_count": null,
   "id": "a3d522fe",
   "metadata": {},
   "outputs": [],
   "source": [
    "from flexmix import flexmix\n",
    "import numpy as np\n",
    "\n",
    "np.random.seed(1234)\n",
    "\n",
    "MD.reg2 = flexmix(f, data=mcdonalds, k=2, nrep=10, control=flexmix.control(verbose=False))\n",
    "print(MD.reg2)\n"
   ]
  },
  {
   "cell_type": "code",
   "execution_count": null,
   "id": "74e133c3",
   "metadata": {},
   "outputs": [],
   "source": [
    "MD.ref2 = MD.reg2.refit()\n",
    "print(MD.ref2.summary())\n"
   ]
  },
  {
   "cell_type": "code",
   "execution_count": null,
   "id": "aab2d3e7",
   "metadata": {},
   "outputs": [],
   "source": [
    "import matplotlib.pyplot as plt\n",
    "\n",
    "plt.figure()\n",
    "MD.ref2.plot(significance=True)\n",
    "plt.show()\n"
   ]
  },
  {
   "cell_type": "code",
   "execution_count": null,
   "id": "5b67596e",
   "metadata": {},
   "outputs": [],
   "source": []
  }
 ],
 "metadata": {
  "kernelspec": {
   "display_name": "Python 3 (ipykernel)",
   "language": "python",
   "name": "python3"
  },
  "language_info": {
   "codemirror_mode": {
    "name": "ipython",
    "version": 3
   },
   "file_extension": ".py",
   "mimetype": "text/x-python",
   "name": "python",
   "nbconvert_exporter": "python",
   "pygments_lexer": "ipython3",
   "version": "3.9.7"
  }
 },
 "nbformat": 4,
 "nbformat_minor": 5
}
